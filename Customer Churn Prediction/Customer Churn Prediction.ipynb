{
 "cells": [
  {
   "cell_type": "markdown",
   "id": "74b3db4a-2865-4ff8-ab7e-c02022bb5189",
   "metadata": {
    "id": "74b3db4a-2865-4ff8-ab7e-c02022bb5189"
   },
   "source": [
    "# ....................................Genztechs...........................................\n",
    "# ...................................Assignment 8.......................................\n",
    "# ...................................Final Project..........................................\n",
    "# ...............................Data Science Internship.........................\n",
    "# ....................................Hamza Aslam......................................."
   ]
  },
  {
   "cell_type": "markdown",
   "id": "8cf1fbc0-c067-4716-9546-347e877c5556",
   "metadata": {
    "id": "8cf1fbc0-c067-4716-9546-347e877c5556"
   },
   "source": [
    "# Project Title:\n",
    "## Predictive Analytics for Customer Churn in a Subscription Based Business"
   ]
  },
  {
   "cell_type": "markdown",
   "id": "df635a44-de90-413a-9115-888c263ca165",
   "metadata": {
    "id": "df635a44-de90-413a-9115-888c263ca165"
   },
   "source": [
    "# Project Steps:\n",
    "## Step 1: Data Collection"
   ]
  },
  {
   "cell_type": "markdown",
   "id": "bbdf0fed-1264-4add-b364-3869cb280322",
   "metadata": {
    "id": "bbdf0fed-1264-4add-b364-3869cb280322"
   },
   "source": [
    "# Import Librariesm"
   ]
  },
  {
   "cell_type": "code",
   "execution_count": 1,
   "id": "e9ab9969-6829-4e23-985d-9b97ee17d596",
   "metadata": {
    "id": "e9ab9969-6829-4e23-985d-9b97ee17d596"
   },
   "outputs": [],
   "source": [
    "import pandas as pd\n",
    "import numpy as np\n",
    "import matplotlib.pyplot as plt\n",
    "import seaborn as sns"
   ]
  },
  {
   "cell_type": "code",
   "execution_count": 2,
   "id": "9abd0de3-5eec-4e77-b625-0b76c4456901",
   "metadata": {
    "id": "9abd0de3-5eec-4e77-b625-0b76c4456901"
   },
   "outputs": [],
   "source": [
    "df = pd.read_csv(\"Telco Customer Churn.csv\")"
   ]
  },
  {
   "cell_type": "markdown",
   "id": "4784692b-7440-4635-9a53-2372f1565411",
   "metadata": {
    "id": "4784692b-7440-4635-9a53-2372f1565411"
   },
   "source": [
    "# Step 2: Exploratory Data Analysis (EDA)"
   ]
  },
  {
   "cell_type": "code",
   "execution_count": 3,
   "id": "1fd8869d-e5f0-4d06-baa3-1e93e26d8454",
   "metadata": {
    "colab": {
     "base_uri": "https://localhost:8080/",
     "height": 342
    },
    "id": "1fd8869d-e5f0-4d06-baa3-1e93e26d8454",
    "outputId": "72f54fa5-e7a7-4166-a71a-1aa44c68c126"
   },
   "outputs": [
    {
     "data": {
      "text/html": [
       "<div>\n",
       "<style scoped>\n",
       "    .dataframe tbody tr th:only-of-type {\n",
       "        vertical-align: middle;\n",
       "    }\n",
       "\n",
       "    .dataframe tbody tr th {\n",
       "        vertical-align: top;\n",
       "    }\n",
       "\n",
       "    .dataframe thead th {\n",
       "        text-align: right;\n",
       "    }\n",
       "</style>\n",
       "<table border=\"1\" class=\"dataframe\">\n",
       "  <thead>\n",
       "    <tr style=\"text-align: right;\">\n",
       "      <th></th>\n",
       "      <th>customerID</th>\n",
       "      <th>gender</th>\n",
       "      <th>SeniorCitizen</th>\n",
       "      <th>Partner</th>\n",
       "      <th>Dependents</th>\n",
       "      <th>tenure</th>\n",
       "      <th>PhoneService</th>\n",
       "      <th>MultipleLines</th>\n",
       "      <th>InternetService</th>\n",
       "      <th>OnlineSecurity</th>\n",
       "      <th>...</th>\n",
       "      <th>DeviceProtection</th>\n",
       "      <th>TechSupport</th>\n",
       "      <th>StreamingTV</th>\n",
       "      <th>StreamingMovies</th>\n",
       "      <th>Contract</th>\n",
       "      <th>PaperlessBilling</th>\n",
       "      <th>PaymentMethod</th>\n",
       "      <th>MonthlyCharges</th>\n",
       "      <th>TotalCharges</th>\n",
       "      <th>Churn</th>\n",
       "    </tr>\n",
       "  </thead>\n",
       "  <tbody>\n",
       "    <tr>\n",
       "      <th>0</th>\n",
       "      <td>7590-VHVEG</td>\n",
       "      <td>Female</td>\n",
       "      <td>0</td>\n",
       "      <td>Yes</td>\n",
       "      <td>No</td>\n",
       "      <td>1</td>\n",
       "      <td>No</td>\n",
       "      <td>No phone service</td>\n",
       "      <td>DSL</td>\n",
       "      <td>No</td>\n",
       "      <td>...</td>\n",
       "      <td>No</td>\n",
       "      <td>No</td>\n",
       "      <td>No</td>\n",
       "      <td>No</td>\n",
       "      <td>Month-to-month</td>\n",
       "      <td>Yes</td>\n",
       "      <td>Electronic check</td>\n",
       "      <td>29.85</td>\n",
       "      <td>29.85</td>\n",
       "      <td>No</td>\n",
       "    </tr>\n",
       "    <tr>\n",
       "      <th>1</th>\n",
       "      <td>5575-GNVDE</td>\n",
       "      <td>Male</td>\n",
       "      <td>0</td>\n",
       "      <td>No</td>\n",
       "      <td>No</td>\n",
       "      <td>34</td>\n",
       "      <td>Yes</td>\n",
       "      <td>No</td>\n",
       "      <td>DSL</td>\n",
       "      <td>Yes</td>\n",
       "      <td>...</td>\n",
       "      <td>Yes</td>\n",
       "      <td>No</td>\n",
       "      <td>No</td>\n",
       "      <td>No</td>\n",
       "      <td>One year</td>\n",
       "      <td>No</td>\n",
       "      <td>Mailed check</td>\n",
       "      <td>56.95</td>\n",
       "      <td>1889.5</td>\n",
       "      <td>No</td>\n",
       "    </tr>\n",
       "    <tr>\n",
       "      <th>2</th>\n",
       "      <td>3668-QPYBK</td>\n",
       "      <td>Male</td>\n",
       "      <td>0</td>\n",
       "      <td>No</td>\n",
       "      <td>No</td>\n",
       "      <td>2</td>\n",
       "      <td>Yes</td>\n",
       "      <td>No</td>\n",
       "      <td>DSL</td>\n",
       "      <td>Yes</td>\n",
       "      <td>...</td>\n",
       "      <td>No</td>\n",
       "      <td>No</td>\n",
       "      <td>No</td>\n",
       "      <td>No</td>\n",
       "      <td>Month-to-month</td>\n",
       "      <td>Yes</td>\n",
       "      <td>Mailed check</td>\n",
       "      <td>53.85</td>\n",
       "      <td>108.15</td>\n",
       "      <td>Yes</td>\n",
       "    </tr>\n",
       "    <tr>\n",
       "      <th>3</th>\n",
       "      <td>7795-CFOCW</td>\n",
       "      <td>Male</td>\n",
       "      <td>0</td>\n",
       "      <td>No</td>\n",
       "      <td>No</td>\n",
       "      <td>45</td>\n",
       "      <td>No</td>\n",
       "      <td>No phone service</td>\n",
       "      <td>DSL</td>\n",
       "      <td>Yes</td>\n",
       "      <td>...</td>\n",
       "      <td>Yes</td>\n",
       "      <td>Yes</td>\n",
       "      <td>No</td>\n",
       "      <td>No</td>\n",
       "      <td>One year</td>\n",
       "      <td>No</td>\n",
       "      <td>Bank transfer (automatic)</td>\n",
       "      <td>42.30</td>\n",
       "      <td>1840.75</td>\n",
       "      <td>No</td>\n",
       "    </tr>\n",
       "    <tr>\n",
       "      <th>4</th>\n",
       "      <td>9237-HQITU</td>\n",
       "      <td>Female</td>\n",
       "      <td>0</td>\n",
       "      <td>No</td>\n",
       "      <td>No</td>\n",
       "      <td>2</td>\n",
       "      <td>Yes</td>\n",
       "      <td>No</td>\n",
       "      <td>Fiber optic</td>\n",
       "      <td>No</td>\n",
       "      <td>...</td>\n",
       "      <td>No</td>\n",
       "      <td>No</td>\n",
       "      <td>No</td>\n",
       "      <td>No</td>\n",
       "      <td>Month-to-month</td>\n",
       "      <td>Yes</td>\n",
       "      <td>Electronic check</td>\n",
       "      <td>70.70</td>\n",
       "      <td>151.65</td>\n",
       "      <td>Yes</td>\n",
       "    </tr>\n",
       "  </tbody>\n",
       "</table>\n",
       "<p>5 rows × 21 columns</p>\n",
       "</div>"
      ],
      "text/plain": [
       "   customerID  gender  SeniorCitizen Partner Dependents  tenure PhoneService  \\\n",
       "0  7590-VHVEG  Female              0     Yes         No       1           No   \n",
       "1  5575-GNVDE    Male              0      No         No      34          Yes   \n",
       "2  3668-QPYBK    Male              0      No         No       2          Yes   \n",
       "3  7795-CFOCW    Male              0      No         No      45           No   \n",
       "4  9237-HQITU  Female              0      No         No       2          Yes   \n",
       "\n",
       "      MultipleLines InternetService OnlineSecurity  ... DeviceProtection  \\\n",
       "0  No phone service             DSL             No  ...               No   \n",
       "1                No             DSL            Yes  ...              Yes   \n",
       "2                No             DSL            Yes  ...               No   \n",
       "3  No phone service             DSL            Yes  ...              Yes   \n",
       "4                No     Fiber optic             No  ...               No   \n",
       "\n",
       "  TechSupport StreamingTV StreamingMovies        Contract PaperlessBilling  \\\n",
       "0          No          No              No  Month-to-month              Yes   \n",
       "1          No          No              No        One year               No   \n",
       "2          No          No              No  Month-to-month              Yes   \n",
       "3         Yes          No              No        One year               No   \n",
       "4          No          No              No  Month-to-month              Yes   \n",
       "\n",
       "               PaymentMethod MonthlyCharges  TotalCharges Churn  \n",
       "0           Electronic check          29.85         29.85    No  \n",
       "1               Mailed check          56.95        1889.5    No  \n",
       "2               Mailed check          53.85        108.15   Yes  \n",
       "3  Bank transfer (automatic)          42.30       1840.75    No  \n",
       "4           Electronic check          70.70        151.65   Yes  \n",
       "\n",
       "[5 rows x 21 columns]"
      ]
     },
     "execution_count": 3,
     "metadata": {},
     "output_type": "execute_result"
    }
   ],
   "source": [
    "df.head()"
   ]
  },
  {
   "cell_type": "code",
   "execution_count": 4,
   "id": "f6b9ba8a-26d7-4b76-9a0d-77935c9080c0",
   "metadata": {
    "colab": {
     "base_uri": "https://localhost:8080/"
    },
    "id": "f6b9ba8a-26d7-4b76-9a0d-77935c9080c0",
    "outputId": "28e9401f-eef7-49e5-9a7b-c80559fcf5a4",
    "scrolled": true
   },
   "outputs": [
    {
     "name": "stdout",
     "output_type": "stream",
     "text": [
      "<class 'pandas.core.frame.DataFrame'>\n",
      "RangeIndex: 7043 entries, 0 to 7042\n",
      "Data columns (total 21 columns):\n",
      " #   Column            Non-Null Count  Dtype  \n",
      "---  ------            --------------  -----  \n",
      " 0   customerID        7043 non-null   object \n",
      " 1   gender            7043 non-null   object \n",
      " 2   SeniorCitizen     7043 non-null   int64  \n",
      " 3   Partner           7043 non-null   object \n",
      " 4   Dependents        7043 non-null   object \n",
      " 5   tenure            7043 non-null   int64  \n",
      " 6   PhoneService      7043 non-null   object \n",
      " 7   MultipleLines     7043 non-null   object \n",
      " 8   InternetService   7043 non-null   object \n",
      " 9   OnlineSecurity    7043 non-null   object \n",
      " 10  OnlineBackup      7043 non-null   object \n",
      " 11  DeviceProtection  7043 non-null   object \n",
      " 12  TechSupport       7043 non-null   object \n",
      " 13  StreamingTV       7043 non-null   object \n",
      " 14  StreamingMovies   7043 non-null   object \n",
      " 15  Contract          7043 non-null   object \n",
      " 16  PaperlessBilling  7043 non-null   object \n",
      " 17  PaymentMethod     7043 non-null   object \n",
      " 18  MonthlyCharges    7043 non-null   float64\n",
      " 19  TotalCharges      7043 non-null   object \n",
      " 20  Churn             7043 non-null   object \n",
      "dtypes: float64(1), int64(2), object(18)\n",
      "memory usage: 1.1+ MB\n"
     ]
    }
   ],
   "source": [
    "df.info()"
   ]
  },
  {
   "cell_type": "code",
   "execution_count": 5,
   "id": "da3d0835-d8b4-447a-a58c-49c7d8ef333d",
   "metadata": {
    "colab": {
     "base_uri": "https://localhost:8080/",
     "height": 300
    },
    "id": "da3d0835-d8b4-447a-a58c-49c7d8ef333d",
    "outputId": "3baa2f78-9200-48c0-b465-b6ff9832fe72"
   },
   "outputs": [
    {
     "data": {
      "text/html": [
       "<div>\n",
       "<style scoped>\n",
       "    .dataframe tbody tr th:only-of-type {\n",
       "        vertical-align: middle;\n",
       "    }\n",
       "\n",
       "    .dataframe tbody tr th {\n",
       "        vertical-align: top;\n",
       "    }\n",
       "\n",
       "    .dataframe thead th {\n",
       "        text-align: right;\n",
       "    }\n",
       "</style>\n",
       "<table border=\"1\" class=\"dataframe\">\n",
       "  <thead>\n",
       "    <tr style=\"text-align: right;\">\n",
       "      <th></th>\n",
       "      <th>SeniorCitizen</th>\n",
       "      <th>tenure</th>\n",
       "      <th>MonthlyCharges</th>\n",
       "    </tr>\n",
       "  </thead>\n",
       "  <tbody>\n",
       "    <tr>\n",
       "      <th>count</th>\n",
       "      <td>7043.000000</td>\n",
       "      <td>7043.000000</td>\n",
       "      <td>7043.000000</td>\n",
       "    </tr>\n",
       "    <tr>\n",
       "      <th>mean</th>\n",
       "      <td>0.162147</td>\n",
       "      <td>32.371149</td>\n",
       "      <td>64.761692</td>\n",
       "    </tr>\n",
       "    <tr>\n",
       "      <th>std</th>\n",
       "      <td>0.368612</td>\n",
       "      <td>24.559481</td>\n",
       "      <td>30.090047</td>\n",
       "    </tr>\n",
       "    <tr>\n",
       "      <th>min</th>\n",
       "      <td>0.000000</td>\n",
       "      <td>0.000000</td>\n",
       "      <td>18.250000</td>\n",
       "    </tr>\n",
       "    <tr>\n",
       "      <th>25%</th>\n",
       "      <td>0.000000</td>\n",
       "      <td>9.000000</td>\n",
       "      <td>35.500000</td>\n",
       "    </tr>\n",
       "    <tr>\n",
       "      <th>50%</th>\n",
       "      <td>0.000000</td>\n",
       "      <td>29.000000</td>\n",
       "      <td>70.350000</td>\n",
       "    </tr>\n",
       "    <tr>\n",
       "      <th>75%</th>\n",
       "      <td>0.000000</td>\n",
       "      <td>55.000000</td>\n",
       "      <td>89.850000</td>\n",
       "    </tr>\n",
       "    <tr>\n",
       "      <th>max</th>\n",
       "      <td>1.000000</td>\n",
       "      <td>72.000000</td>\n",
       "      <td>118.750000</td>\n",
       "    </tr>\n",
       "  </tbody>\n",
       "</table>\n",
       "</div>"
      ],
      "text/plain": [
       "       SeniorCitizen       tenure  MonthlyCharges\n",
       "count    7043.000000  7043.000000     7043.000000\n",
       "mean        0.162147    32.371149       64.761692\n",
       "std         0.368612    24.559481       30.090047\n",
       "min         0.000000     0.000000       18.250000\n",
       "25%         0.000000     9.000000       35.500000\n",
       "50%         0.000000    29.000000       70.350000\n",
       "75%         0.000000    55.000000       89.850000\n",
       "max         1.000000    72.000000      118.750000"
      ]
     },
     "execution_count": 5,
     "metadata": {},
     "output_type": "execute_result"
    }
   ],
   "source": [
    "df.describe()"
   ]
  },
  {
   "cell_type": "markdown",
   "id": "d660c9ce-b105-40bd-bb18-68837c913a40",
   "metadata": {
    "id": "d660c9ce-b105-40bd-bb18-68837c913a40"
   },
   "source": [
    " ## Distribution of churn vs. non-churn customers."
   ]
  },
  {
   "cell_type": "code",
   "execution_count": 6,
   "id": "bb227330-0045-46a5-b037-770e9b3da5b9",
   "metadata": {
    "colab": {
     "base_uri": "https://localhost:8080/",
     "height": 473
    },
    "id": "bb227330-0045-46a5-b037-770e9b3da5b9",
    "outputId": "118c7c06-5aa8-4c9e-ce3c-1bc1a02f3a6a"
   },
   "outputs": [
    {
     "data": {
      "image/png": "[encoded data removed]",
      "text/plain": [
       "<Figure size 640x480 with 1 Axes>"
      ]
     },
     "metadata": {},
     "output_type": "display_data"
    }
   ],
   "source": [
    "sns.countplot(x='Churn', data=df)\n",
    "plt.title('Churn Distribution', fontsize= 14)\n",
    "\n",
    "plt.show()"
   ]
  },
  {
   "cell_type": "markdown",
   "id": "597748c8-e0b1-4bea-a70b-eb69792d657d",
   "metadata": {
    "id": "597748c8-e0b1-4bea-a70b-eb69792d657d"
   },
   "source": [
    "## Correlation between features and churn."
   ]
  },
  {
   "cell_type": "code",
   "execution_count": 7,
   "id": "ef95d2ef-3363-487c-bd4d-8312fa6d9080",
   "metadata": {
    "colab": {
     "base_uri": "https://localhost:8080/",
     "height": 545
    },
    "id": "ef95d2ef-3363-487c-bd4d-8312fa6d9080",
    "outputId": "13a42864-41dc-4ed2-e8ed-0419919af3d3",
    "scrolled": true
   },
   "outputs": [
    {
     "data": {
      "image/png": "[encoded data removed]",
      "text/plain": [
       "<Figure size 1000x600 with 2 Axes>"
      ]
     },
     "metadata": {},
     "output_type": "display_data"
    }
   ],
   "source": [
    "plt.figure(figsize=(10, 6))\n",
    "sns.heatmap(df.corr(numeric_only=True), annot=True, cmap='coolwarm', fmt='.2f')\n",
    "plt.title('Feature Correlation Heatmap')\n",
    "plt.show()"
   ]
  },
  {
   "cell_type": "code",
   "execution_count": 8,
   "id": "ef9312ba-4ed5-4daf-8da6-32f2a1530e6d",
   "metadata": {
    "colab": {
     "base_uri": "https://localhost:8080/"
    },
    "id": "ef9312ba-4ed5-4daf-8da6-32f2a1530e6d",
    "outputId": "79887a67-5729-46f2-e4d6-ccf5865ced80"
   },
   "outputs": [
    {
     "data": {
      "text/plain": [
       "array([ 1, 34,  2, 45,  8, 22, 10, 28, 62, 13, 16, 58, 49, 25, 69, 52, 71,\n",
       "       21, 12, 30, 47, 72, 17, 27,  5, 46, 11, 70, 63, 43, 15, 60, 18, 66,\n",
       "        9,  3, 31, 50, 64, 56,  7, 42, 35, 48, 29, 65, 38, 68, 32, 55, 37,\n",
       "       36, 41,  6,  4, 33, 67, 23, 57, 61, 14, 20, 53, 40, 59, 24, 44, 19,\n",
       "       54, 51, 26,  0, 39], dtype=int64)"
      ]
     },
     "execution_count": 8,
     "metadata": {},
     "output_type": "execute_result"
    }
   ],
   "source": [
    "df['tenure'].unique()"
   ]
  },
  {
   "cell_type": "markdown",
   "id": "41fc68d8-d4d1-4df5-8e7d-aec9bab3b3ce",
   "metadata": {
    "id": "41fc68d8-d4d1-4df5-8e7d-aec9bab3b3ce"
   },
   "source": [
    "## Trends in customer behavior"
   ]
  },
  {
   "cell_type": "code",
   "execution_count": 9,
   "id": "66d327e3-a4d1-4336-8de7-fb9395403bbd",
   "metadata": {
    "colab": {
     "base_uri": "https://localhost:8080/",
     "height": 564
    },
    "id": "66d327e3-a4d1-4336-8de7-fb9395403bbd",
    "outputId": "973acba6-d05f-4de4-e2b6-9cdb89c4a75c",
    "scrolled": true
   },
   "outputs": [
    {
     "data": {
      "image/png": "[encoded data removed]",
      "text/plain": [
       "<Figure size 1000x600 with 1 Axes>"
      ]
     },
     "metadata": {},
     "output_type": "display_data"
    }
   ],
   "source": [
    "plt.figure(figsize=(10, 6))\n",
    "sns.boxplot(x='Churn', y='tenure', hue='Churn', data=df, palette='Set3')\n",
    "plt.title('Churn by Tenure')\n",
    "plt.show()"
   ]
  },
  {
   "cell_type": "code",
   "execution_count": 10,
   "id": "4dc4599e-3a5e-438a-ba82-a05520f0beea",
   "metadata": {
    "id": "4dc4599e-3a5e-438a-ba82-a05520f0beea"
   },
   "outputs": [],
   "source": [
    "df['Churn'] = df['Churn'].map({'Yes': 1, 'No': 0})"
   ]
  },
  {
   "cell_type": "code",
   "execution_count": 11,
   "id": "b902aa7d-8b25-4e2b-b18a-0329500c9597",
   "metadata": {
    "colab": {
     "base_uri": "https://localhost:8080/",
     "height": 485
    },
    "id": "b902aa7d-8b25-4e2b-b18a-0329500c9597",
    "outputId": "0b3ad0bb-474d-4891-8788-6ec7e87826c0",
    "scrolled": true
   },
   "outputs": [
    {
     "data": {
      "image/png": "[encoded data removed]",
      "text/plain": [
       "<Figure size 640x480 with 1 Axes>"
      ]
     },
     "metadata": {},
     "output_type": "display_data"
    }
   ],
   "source": [
    "churn_rate_by_tenure_group = df.groupby('tenure')['Churn'].mean()\n",
    "\n",
    "churn_rate_by_tenure_group = churn_rate_by_tenure_group.reset_index()\n",
    "df\n",
    "sns.barplot(data=churn_rate_by_tenure_group, x='tenure', y='Churn',hue='tenure', palette='coolwarm')\n",
    "plt.title('Churn Rate by Tenure Group', fontsize=14)\n",
    "plt.xlabel('Tenure Group (Months)', fontsize=12)\n",
    "plt.ylabel('Churn Rate', fontsize=12)\n",
    "plt.xticks(rotation=45)\n",
    "plt.show()\n"
   ]
  },
  {
   "cell_type": "markdown",
   "id": "95c00b07-a17b-4496-8e86-d8366cff430e",
   "metadata": {
    "id": "95c00b07-a17b-4496-8e86-d8366cff430e"
   },
   "source": [
    "# Step 3: Data Preprocessing"
   ]
  },
  {
   "cell_type": "markdown",
   "id": "811944f7-afd6-453d-b9e1-83e12f5dcfb8",
   "metadata": {
    "id": "811944f7-afd6-453d-b9e1-83e12f5dcfb8"
   },
   "source": [
    "## Handle missing values and outliers."
   ]
  },
  {
   "cell_type": "code",
   "execution_count": 12,
   "id": "ffcb742c-27cb-4154-b2fa-6732bd0f92b7",
   "metadata": {
    "colab": {
     "base_uri": "https://localhost:8080/",
     "height": 458
    },
    "id": "ffcb742c-27cb-4154-b2fa-6732bd0f92b7",
    "outputId": "59846c4f-da72-4247-ce7a-379a8fda8422",
    "scrolled": true
   },
   "outputs": [
    {
     "data": {
      "text/plain": [
       "customerID          0\n",
       "gender              0\n",
       "SeniorCitizen       0\n",
       "Partner             0\n",
       "Dependents          0\n",
       "tenure              0\n",
       "PhoneService        0\n",
       "MultipleLines       0\n",
       "InternetService     0\n",
       "OnlineSecurity      0\n",
       "OnlineBackup        0\n",
       "DeviceProtection    0\n",
       "TechSupport         0\n",
       "StreamingTV         0\n",
       "StreamingMovies     0\n",
       "Contract            0\n",
       "PaperlessBilling    0\n",
       "PaymentMethod       0\n",
       "MonthlyCharges      0\n",
       "TotalCharges        0\n",
       "Churn               0\n",
       "dtype: int64"
      ]
     },
     "execution_count": 12,
     "metadata": {},
     "output_type": "execute_result"
    }
   ],
   "source": [
    "df.isnull().sum()"
   ]
  },
  {
   "cell_type": "code",
   "execution_count": 13,
   "id": "28027003-7a8d-4b0b-b03c-d2960ec2c7e8",
   "metadata": {
    "colab": {
     "base_uri": "https://localhost:8080/",
     "height": 458
    },
    "id": "28027003-7a8d-4b0b-b03c-d2960ec2c7e8",
    "outputId": "4f5fa490-d2bb-45d5-a270-a9c97b3b7e0a"
   },
   "outputs": [
    {
     "data": {
      "text/plain": [
       "0         29.85\n",
       "1       1889.50\n",
       "2        108.15\n",
       "3       1840.75\n",
       "4        151.65\n",
       "         ...   \n",
       "7038    1990.50\n",
       "7039    7362.90\n",
       "7040     346.45\n",
       "7041     306.60\n",
       "7042    6844.50\n",
       "Name: TotalCharges, Length: 7043, dtype: float64"
      ]
     },
     "execution_count": 13,
     "metadata": {},
     "output_type": "execute_result"
    }
   ],
   "source": [
    "df['TotalCharges'] = pd.to_numeric(df['TotalCharges'], errors='coerce')\n",
    "df['TotalCharges'] = df['TotalCharges'].fillna(df['TotalCharges'].median())\n",
    "df['TotalCharges']"
   ]
  },
  {
   "cell_type": "markdown",
   "id": "aa1431cd-f99f-4182-898f-e9c6a110b3d9",
   "metadata": {
    "id": "aa1431cd-f99f-4182-898f-e9c6a110b3d9"
   },
   "source": [
    "## check outliers"
   ]
  },
  {
   "cell_type": "code",
   "execution_count": 14,
   "id": "79bc79d7-8ac6-4c75-a660-ec5e6daff1e6",
   "metadata": {
    "colab": {
     "base_uri": "https://localhost:8080/",
     "height": 449
    },
    "id": "79bc79d7-8ac6-4c75-a660-ec5e6daff1e6",
    "outputId": "2e13153d-ccf2-4c9e-8291-f21da940f913"
   },
   "outputs": [
    {
     "data": {
      "image/png": "[encoded data removed]",
      "text/plain": [
       "<Figure size 640x480 with 1 Axes>"
      ]
     },
     "metadata": {},
     "output_type": "display_data"
    }
   ],
   "source": [
    "sns.boxplot(x=df['Churn'])\n",
    "plt.show()"
   ]
  },
  {
   "cell_type": "markdown",
   "id": "3d252b8e-e378-438a-9493-d50391f865b4",
   "metadata": {
    "id": "3d252b8e-e378-438a-9493-d50391f865b4"
   },
   "source": [
    "## Encoding categorical variables using OneHotEncoder"
   ]
  },
  {
   "cell_type": "code",
   "execution_count": 15,
   "id": "4ff3a073-5e26-4a02-a8ac-1ddb50883b4e",
   "metadata": {
    "id": "4ff3a073-5e26-4a02-a8ac-1ddb50883b4e"
   },
   "outputs": [],
   "source": [
    "categorical_cols = df.select_dtypes(include=['object']).columns\n",
    "df = pd.get_dummies(df, columns=categorical_cols, drop_first=True)\n"
   ]
  },
  {
   "cell_type": "markdown",
   "id": "f5bb07bd-c933-49e3-a50b-fbd3e5bce050",
   "metadata": {
    "id": "f5bb07bd-c933-49e3-a50b-fbd3e5bce050"
   },
   "source": [
    "## Selecting features(x) and target(y)"
   ]
  },
  {
   "cell_type": "code",
   "execution_count": 16,
   "id": "25e5fc59-11b0-4767-b4c5-caa37f249291",
   "metadata": {
    "id": "25e5fc59-11b0-4767-b4c5-caa37f249291",
    "scrolled": true
   },
   "outputs": [],
   "source": [
    "X = df.drop('Churn',axis='columns')\n",
    "y = df['Churn']"
   ]
  },
  {
   "cell_type": "markdown",
   "id": "3869524f-976b-4acd-a9a2-b9f03a37ba2a",
   "metadata": {
    "id": "3869524f-976b-4acd-a9a2-b9f03a37ba2a"
   },
   "source": [
    "## Splitting data"
   ]
  },
  {
   "cell_type": "code",
   "execution_count": 17,
   "id": "b69ecc7c-e750-45e1-840a-b034330ba7a7",
   "metadata": {
    "id": "b69ecc7c-e750-45e1-840a-b034330ba7a7"
   },
   "outputs": [],
   "source": [
    "from sklearn.model_selection import train_test_split\n",
    "X_train, X_test, y_train, y_test = train_test_split(X, y, test_size=0.2)"
   ]
  },
  {
   "cell_type": "markdown",
   "id": "43748932-b444-41b3-8c46-4744665e50d2",
   "metadata": {
    "id": "43748932-b444-41b3-8c46-4744665e50d2"
   },
   "source": [
    "## Normalizing numerical features"
   ]
  },
  {
   "cell_type": "code",
   "execution_count": 18,
   "id": "901db281-436d-4d57-8b17-767a92bb788c",
   "metadata": {
    "id": "901db281-436d-4d57-8b17-767a92bb788c"
   },
   "outputs": [],
   "source": [
    "from sklearn.preprocessing import StandardScaler, OneHotEncoder\n",
    "scaler = StandardScaler()\n",
    "X_train = scaler.fit_transform(X_train)\n",
    "X_test = scaler.transform(X_test)"
   ]
  },
  {
   "cell_type": "code",
   "execution_count": 19,
   "id": "64c2c5be-c56f-4ad7-81e1-37b36ef1be16",
   "metadata": {
    "colab": {
     "base_uri": "https://localhost:8080/"
    },
    "id": "64c2c5be-c56f-4ad7-81e1-37b36ef1be16",
    "outputId": "07194913-dfb9-4122-a719-cc10cc04f2d3"
   },
   "outputs": [
    {
     "data": {
      "text/plain": [
       "array([[-0.43947526,  1.46398299,  0.89913786, ..., -0.52160372,\n",
       "         1.40299244, -0.54768043],\n",
       "       [-0.43947526,  1.62744402,  1.42201922, ...,  1.91716423,\n",
       "        -0.71276222, -0.54768043],\n",
       "       [ 2.27544096, -1.27398928,  0.15382442, ..., -0.52160372,\n",
       "         1.40299244, -0.54768043],\n",
       "       ...,\n",
       "       [-0.43947526, -0.00716629, -1.50113658, ..., -0.52160372,\n",
       "        -0.71276222, -0.54768043],\n",
       "       [-0.43947526, -1.27398928, -0.45537386, ..., -0.52160372,\n",
       "        -0.71276222,  1.82588229],\n",
       "       [-0.43947526, -0.25235784,  0.14718466, ...,  1.91716423,\n",
       "        -0.71276222, -0.54768043]])"
      ]
     },
     "execution_count": 19,
     "metadata": {},
     "output_type": "execute_result"
    }
   ],
   "source": [
    "X_train"
   ]
  },
  {
   "cell_type": "code",
   "execution_count": 20,
   "id": "4fb6f5a3-992e-40f1-9b32-5225879170b9",
   "metadata": {
    "colab": {
     "base_uri": "https://localhost:8080/"
    },
    "id": "4fb6f5a3-992e-40f1-9b32-5225879170b9",
    "outputId": "37a6d309-97b2-4d59-bdd6-2eaad6c5460b"
   },
   "outputs": [
    {
     "data": {
      "text/plain": [
       "array([[-0.43947526, -0.74274093, -0.46035368, ..., -0.52160372,\n",
       "         1.40299244, -0.54768043],\n",
       "       [-0.43947526, -0.12976206, -1.49615676, ..., -0.52160372,\n",
       "        -0.71276222,  1.82588229],\n",
       "       [-0.43947526, -1.27398928,  0.83937999, ..., -0.52160372,\n",
       "         1.40299244, -0.54768043],\n",
       "       ...,\n",
       "       [-0.43947526,  1.01446515, -0.78072226, ...,  1.91716423,\n",
       "        -0.71276222, -0.54768043],\n",
       "       [-0.43947526,  0.81013886,  0.89581798, ...,  1.91716423,\n",
       "        -0.71276222, -0.54768043],\n",
       "       [-0.43947526, -1.15139351, -1.16084871, ..., -0.52160372,\n",
       "         1.40299244, -0.54768043]])"
      ]
     },
     "execution_count": 20,
     "metadata": {},
     "output_type": "execute_result"
    }
   ],
   "source": [
    "X_test"
   ]
  },
  {
   "cell_type": "markdown",
   "id": "79222595-a513-44d8-a0c8-4d81cdb12152",
   "metadata": {
    "id": "79222595-a513-44d8-a0c8-4d81cdb12152"
   },
   "source": [
    "# 4. Model Building"
   ]
  },
  {
   "cell_type": "code",
   "execution_count": 21,
   "id": "65044905-d776-487b-abf5-5385031665bc",
   "metadata": {
    "id": "65044905-d776-487b-abf5-5385031665bc"
   },
   "outputs": [],
   "source": [
    "from sklearn.linear_model import LogisticRegression\n",
    "from sklearn.metrics import accuracy_score, precision_score, recall_score, f1_score, roc_auc_score, confusion_matrix"
   ]
  },
  {
   "cell_type": "markdown",
   "id": "7d2e45d3-3559-4530-912c-6b43b2840924",
   "metadata": {
    "id": "7d2e45d3-3559-4530-912c-6b43b2840924"
   },
   "source": [
    "## Logistic Regression"
   ]
  },
  {
   "cell_type": "code",
   "execution_count": 22,
   "id": "297eab56-f7a5-4c3e-8a98-82ee31618bf7",
   "metadata": {
    "colab": {
     "base_uri": "https://localhost:8080/",
     "height": 80
    },
    "id": "297eab56-f7a5-4c3e-8a98-82ee31618bf7",
    "outputId": "9c657a1e-bda9-4bf4-c597-99ad56bcb8b7"
   },
   "outputs": [
    {
     "data": {
      "text/html": [
       "<style>#sk-container-id-1 {color: black;background-color: white;}#sk-container-id-1 pre{padding: 0;}#sk-container-id-1 div.sk-toggleable {background-color: white;}#sk-container-id-1 label.sk-toggleable__label {cursor: pointer;display: block;width: 100%;margin-bottom: 0;padding: 0.3em;box-sizing: border-box;text-align: center;}#sk-container-id-1 label.sk-toggleable__label-arrow:before {content: \"▸\";float: left;margin-right: 0.25em;color: #696969;}#sk-container-id-1 label.sk-toggleable__label-arrow:hover:before {color: black;}#sk-container-id-1 div.sk-estimator:hover label.sk-toggleable__label-arrow:before {color: black;}#sk-container-id-1 div.sk-toggleable__content {max-height: 0;max-width: 0;overflow: hidden;text-align: left;background-color: #f0f8ff;}#sk-container-id-1 div.sk-toggleable__content pre {margin: 0.2em;color: black;border-radius: 0.25em;background-color: #f0f8ff;}#sk-container-id-1 input.sk-toggleable__control:checked~div.sk-toggleable__content {max-height: 200px;max-width: 100%;overflow: auto;}#sk-container-id-1 input.sk-toggleable__control:checked~label.sk-toggleable__label-arrow:before {content: \"▾\";}#sk-container-id-1 div.sk-estimator input.sk-toggleable__control:checked~label.sk-toggleable__label {background-color: #d4ebff;}#sk-container-id-1 div.sk-label input.sk-toggleable__control:checked~label.sk-toggleable__label {background-color: #d4ebff;}#sk-container-id-1 input.sk-hidden--visually {border: 0;clip: rect(1px 1px 1px 1px);clip: rect(1px, 1px, 1px, 1px);height: 1px;margin: -1px;overflow: hidden;padding: 0;position: absolute;width: 1px;}#sk-container-id-1 div.sk-estimator {font-family: monospace;background-color: #f0f8ff;border: 1px dotted black;border-radius: 0.25em;box-sizing: border-box;margin-bottom: 0.5em;}#sk-container-id-1 div.sk-estimator:hover {background-color: #d4ebff;}#sk-container-id-1 div.sk-parallel-item::after {content: \"\";width: 100%;border-bottom: 1px solid gray;flex-grow: 1;}#sk-container-id-1 div.sk-label:hover label.sk-toggleable__label {background-color: #d4ebff;}#sk-container-id-1 div.sk-serial::before {content: \"\";position: absolute;border-left: 1px solid gray;box-sizing: border-box;top: 0;bottom: 0;left: 50%;z-index: 0;}#sk-container-id-1 div.sk-serial {display: flex;flex-direction: column;align-items: center;background-color: white;padding-right: 0.2em;padding-left: 0.2em;position: relative;}#sk-container-id-1 div.sk-item {position: relative;z-index: 1;}#sk-container-id-1 div.sk-parallel {display: flex;align-items: stretch;justify-content: center;background-color: white;position: relative;}#sk-container-id-1 div.sk-item::before, #sk-container-id-1 div.sk-parallel-item::before {content: \"\";position: absolute;border-left: 1px solid gray;box-sizing: border-box;top: 0;bottom: 0;left: 50%;z-index: -1;}#sk-container-id-1 div.sk-parallel-item {display: flex;flex-direction: column;z-index: 1;position: relative;background-color: white;}#sk-container-id-1 div.sk-parallel-item:first-child::after {align-self: flex-end;width: 50%;}#sk-container-id-1 div.sk-parallel-item:last-child::after {align-self: flex-start;width: 50%;}#sk-container-id-1 div.sk-parallel-item:only-child::after {width: 0;}#sk-container-id-1 div.sk-dashed-wrapped {border: 1px dashed gray;margin: 0 0.4em 0.5em 0.4em;box-sizing: border-box;padding-bottom: 0.4em;background-color: white;}#sk-container-id-1 div.sk-label label {font-family: monospace;font-weight: bold;display: inline-block;line-height: 1.2em;}#sk-container-id-1 div.sk-label-container {text-align: center;}#sk-container-id-1 div.sk-container {/* jupyter's `normalize.less` sets `[hidden] { display: none; }` but bootstrap.min.css set `[hidden] { display: none !important; }` so we also need the `!important` here to be able to override the default hidden behavior on the sphinx rendered scikit-learn.org. See: https://github.com/scikit-learn/scikit-learn/issues/21755 */display: inline-block !important;position: relative;}#sk-container-id-1 div.sk-text-repr-fallback {display: none;}</style><div id=\"sk-container-id-1\" class=\"sk-top-container\"><div class=\"sk-text-repr-fallback\"><pre>LogisticRegression()</pre><b>In a Jupyter environment, please rerun this cell to show the HTML representation or trust the notebook. <br />On GitHub, the HTML representation is unable to render, please try loading this page with nbviewer.org.</b></div><div class=\"sk-container\" hidden><div class=\"sk-item\"><div class=\"sk-estimator sk-toggleable\"><input class=\"sk-toggleable__control sk-hidden--visually\" id=\"sk-estimator-id-1\" type=\"checkbox\" checked><label for=\"sk-estimator-id-1\" class=\"sk-toggleable__label sk-toggleable__label-arrow\">LogisticRegression</label><div class=\"sk-toggleable__content\"><pre>LogisticRegression()</pre></div></div></div></div></div>"
      ],
      "text/plain": [
       "LogisticRegression()"
      ]
     },
     "execution_count": 22,
     "metadata": {},
     "output_type": "execute_result"
    }
   ],
   "source": [
    "log_reg = LogisticRegression()\n",
    "log_reg.fit(X_train, y_train)"
   ]
  },
  {
   "cell_type": "code",
   "execution_count": 23,
   "id": "ca9f204c-ded1-4f77-8c1d-3ed7e19948fc",
   "metadata": {
    "colab": {
     "base_uri": "https://localhost:8080/"
    },
    "id": "ca9f204c-ded1-4f77-8c1d-3ed7e19948fc",
    "outputId": "e7f001f4-a9cb-43fc-88ea-6f518a261189"
   },
   "outputs": [
    {
     "data": {
      "text/plain": [
       "array([0, 0, 1, ..., 0, 0, 0], dtype=int64)"
      ]
     },
     "execution_count": 23,
     "metadata": {},
     "output_type": "execute_result"
    }
   ],
   "source": [
    "y_pred_log = log_reg.predict(X_test)\n",
    "y_pred_log"
   ]
  },
  {
   "cell_type": "code",
   "execution_count": 24,
   "id": "9e9f5d24-f4b8-45b6-80dc-d2f9af9a48dd",
   "metadata": {
    "colab": {
     "base_uri": "https://localhost:8080/"
    },
    "id": "9e9f5d24-f4b8-45b6-80dc-d2f9af9a48dd",
    "outputId": "be544b98-a1c7-4537-e159-fd88f7bddbf6"
   },
   "outputs": [
    {
     "name": "stdout",
     "output_type": "stream",
     "text": [
      "Logistic Regression Metrics:\n",
      "Accuracy: 0.80\n",
      "Precision: 0.75\n",
      "Recall: 0.33\n",
      "F1-Score: 0.46\n",
      "ROC-AUC: 0.65\n"
     ]
    }
   ],
   "source": [
    "print(\"Logistic Regression Metrics:\")\n",
    "print(f\"Accuracy: {accuracy_score(y_test, y_pred_log):.2f}\")\n",
    "print(f\"Precision: {precision_score(y_test, y_pred_log):.2f}\")\n",
    "print(f\"Recall: {recall_score(y_test, y_pred_log):.2f}\")\n",
    "print(f\"F1-Score: {f1_score(y_test, y_pred_log):.2f}\")\n",
    "print(f\"ROC-AUC: {roc_auc_score(y_test, y_pred_log):.2f}\")\n"
   ]
  },
  {
   "cell_type": "markdown",
   "id": "77a52e86-f6e1-44fe-bd69-53a1d7541a1d",
   "metadata": {
    "id": "77a52e86-f6e1-44fe-bd69-53a1d7541a1d"
   },
   "source": [
    "## Random Forest"
   ]
  },
  {
   "cell_type": "code",
   "execution_count": 25,
   "id": "93b0a7f4-8558-4fca-8575-91481c0a9a99",
   "metadata": {
    "id": "93b0a7f4-8558-4fca-8575-91481c0a9a99"
   },
   "outputs": [],
   "source": [
    "from sklearn.ensemble import RandomForestClassifier\n",
    "from sklearn.metrics import accuracy_score, precision_score, recall_score, f1_score, roc_auc_score, confusion_matrix"
   ]
  },
  {
   "cell_type": "code",
   "execution_count": 26,
   "id": "02d4ba08-af37-4c89-9019-d64da4dc62d0",
   "metadata": {
    "colab": {
     "base_uri": "https://localhost:8080/",
     "height": 80
    },
    "id": "02d4ba08-af37-4c89-9019-d64da4dc62d0",
    "outputId": "5e1e29a0-1367-4bfb-b267-5267ad61a9a2"
   },
   "outputs": [
    {
     "data": {
      "text/html": [
       "<style>#sk-container-id-2 {color: black;background-color: white;}#sk-container-id-2 pre{padding: 0;}#sk-container-id-2 div.sk-toggleable {background-color: white;}#sk-container-id-2 label.sk-toggleable__label {cursor: pointer;display: block;width: 100%;margin-bottom: 0;padding: 0.3em;box-sizing: border-box;text-align: center;}#sk-container-id-2 label.sk-toggleable__label-arrow:before {content: \"▸\";float: left;margin-right: 0.25em;color: #696969;}#sk-container-id-2 label.sk-toggleable__label-arrow:hover:before {color: black;}#sk-container-id-2 div.sk-estimator:hover label.sk-toggleable__label-arrow:before {color: black;}#sk-container-id-2 div.sk-toggleable__content {max-height: 0;max-width: 0;overflow: hidden;text-align: left;background-color: #f0f8ff;}#sk-container-id-2 div.sk-toggleable__content pre {margin: 0.2em;color: black;border-radius: 0.25em;background-color: #f0f8ff;}#sk-container-id-2 input.sk-toggleable__control:checked~div.sk-toggleable__content {max-height: 200px;max-width: 100%;overflow: auto;}#sk-container-id-2 input.sk-toggleable__control:checked~label.sk-toggleable__label-arrow:before {content: \"▾\";}#sk-container-id-2 div.sk-estimator input.sk-toggleable__control:checked~label.sk-toggleable__label {background-color: #d4ebff;}#sk-container-id-2 div.sk-label input.sk-toggleable__control:checked~label.sk-toggleable__label {background-color: #d4ebff;}#sk-container-id-2 input.sk-hidden--visually {border: 0;clip: rect(1px 1px 1px 1px);clip: rect(1px, 1px, 1px, 1px);height: 1px;margin: -1px;overflow: hidden;padding: 0;position: absolute;width: 1px;}#sk-container-id-2 div.sk-estimator {font-family: monospace;background-color: #f0f8ff;border: 1px dotted black;border-radius: 0.25em;box-sizing: border-box;margin-bottom: 0.5em;}#sk-container-id-2 div.sk-estimator:hover {background-color: #d4ebff;}#sk-container-id-2 div.sk-parallel-item::after {content: \"\";width: 100%;border-bottom: 1px solid gray;flex-grow: 1;}#sk-container-id-2 div.sk-label:hover label.sk-toggleable__label {background-color: #d4ebff;}#sk-container-id-2 div.sk-serial::before {content: \"\";position: absolute;border-left: 1px solid gray;box-sizing: border-box;top: 0;bottom: 0;left: 50%;z-index: 0;}#sk-container-id-2 div.sk-serial {display: flex;flex-direction: column;align-items: center;background-color: white;padding-right: 0.2em;padding-left: 0.2em;position: relative;}#sk-container-id-2 div.sk-item {position: relative;z-index: 1;}#sk-container-id-2 div.sk-parallel {display: flex;align-items: stretch;justify-content: center;background-color: white;position: relative;}#sk-container-id-2 div.sk-item::before, #sk-container-id-2 div.sk-parallel-item::before {content: \"\";position: absolute;border-left: 1px solid gray;box-sizing: border-box;top: 0;bottom: 0;left: 50%;z-index: -1;}#sk-container-id-2 div.sk-parallel-item {display: flex;flex-direction: column;z-index: 1;position: relative;background-color: white;}#sk-container-id-2 div.sk-parallel-item:first-child::after {align-self: flex-end;width: 50%;}#sk-container-id-2 div.sk-parallel-item:last-child::after {align-self: flex-start;width: 50%;}#sk-container-id-2 div.sk-parallel-item:only-child::after {width: 0;}#sk-container-id-2 div.sk-dashed-wrapped {border: 1px dashed gray;margin: 0 0.4em 0.5em 0.4em;box-sizing: border-box;padding-bottom: 0.4em;background-color: white;}#sk-container-id-2 div.sk-label label {font-family: monospace;font-weight: bold;display: inline-block;line-height: 1.2em;}#sk-container-id-2 div.sk-label-container {text-align: center;}#sk-container-id-2 div.sk-container {/* jupyter's `normalize.less` sets `[hidden] { display: none; }` but bootstrap.min.css set `[hidden] { display: none !important; }` so we also need the `!important` here to be able to override the default hidden behavior on the sphinx rendered scikit-learn.org. See: https://github.com/scikit-learn/scikit-learn/issues/21755 */display: inline-block !important;position: relative;}#sk-container-id-2 div.sk-text-repr-fallback {display: none;}</style><div id=\"sk-container-id-2\" class=\"sk-top-container\"><div class=\"sk-text-repr-fallback\"><pre>RandomForestClassifier(n_estimators=20)</pre><b>In a Jupyter environment, please rerun this cell to show the HTML representation or trust the notebook. <br />On GitHub, the HTML representation is unable to render, please try loading this page with nbviewer.org.</b></div><div class=\"sk-container\" hidden><div class=\"sk-item\"><div class=\"sk-estimator sk-toggleable\"><input class=\"sk-toggleable__control sk-hidden--visually\" id=\"sk-estimator-id-2\" type=\"checkbox\" checked><label for=\"sk-estimator-id-2\" class=\"sk-toggleable__label sk-toggleable__label-arrow\">RandomForestClassifier</label><div class=\"sk-toggleable__content\"><pre>RandomForestClassifier(n_estimators=20)</pre></div></div></div></div></div>"
      ],
      "text/plain": [
       "RandomForestClassifier(n_estimators=20)"
      ]
     },
     "execution_count": 26,
     "metadata": {},
     "output_type": "execute_result"
    }
   ],
   "source": [
    "rf_model = RandomForestClassifier(n_estimators=20).fit(X_train, y_train)\n",
    "rf_model"
   ]
  },
  {
   "cell_type": "code",
   "execution_count": 27,
   "id": "91ec5fc8-2d1b-400a-8890-9f5c39e85d76",
   "metadata": {
    "id": "91ec5fc8-2d1b-400a-8890-9f5c39e85d76"
   },
   "outputs": [],
   "source": [
    "y_pred_rf = rf_model.predict(X_test)"
   ]
  },
  {
   "cell_type": "code",
   "execution_count": 28,
   "id": "9ed6e39e-d4ca-4fbc-94f4-cc1256b4ed46",
   "metadata": {
    "colab": {
     "base_uri": "https://localhost:8080/"
    },
    "id": "9ed6e39e-d4ca-4fbc-94f4-cc1256b4ed46",
    "outputId": "dcc6499a-a3f7-4e1a-ad7c-4c06cd269dd4",
    "scrolled": true
   },
   "outputs": [
    {
     "name": "stdout",
     "output_type": "stream",
     "text": [
      "\n",
      "Random Forest Metrics:\n",
      "Accuracy: 0.81\n",
      "Precision: 0.71\n",
      "Recall: 0.46\n",
      "F1-Score: 0.56\n",
      "ROC-AUC: 0.70\n"
     ]
    }
   ],
   "source": [
    "print(\"\\nRandom Forest Metrics:\")\n",
    "print(f\"Accuracy: {accuracy_score(y_test, y_pred_rf):.2f}\")\n",
    "print(f\"Precision: {precision_score(y_test, y_pred_rf):.2f}\")\n",
    "print(f\"Recall: {recall_score(y_test, y_pred_rf):.2f}\")\n",
    "print(f\"F1-Score: {f1_score(y_test, y_pred_rf):.2f}\")\n",
    "print(f\"ROC-AUC: {roc_auc_score(y_test, y_pred_rf):.2f}\")"
   ]
  },
  {
   "cell_type": "markdown",
   "id": "c18ea85b-edab-4d8f-acd0-a4af732a16c2",
   "metadata": {
    "id": "c18ea85b-edab-4d8f-acd0-a4af732a16c2"
   },
   "source": [
    "## Confusion Matrix"
   ]
  },
  {
   "cell_type": "code",
   "execution_count": 29,
   "id": "2c242d1c-ed1d-4ad3-8035-b08d2f2ae49d",
   "metadata": {
    "colab": {
     "base_uri": "https://localhost:8080/",
     "height": 472
    },
    "id": "2c242d1c-ed1d-4ad3-8035-b08d2f2ae49d",
    "outputId": "fada8e19-0815-47ee-94c7-ed6767cd1289"
   },
   "outputs": [
    {
     "data": {
      "image/png": "[encoded data removed]",
      "text/plain": [
       "<Figure size 640x480 with 2 Axes>"
      ]
     },
     "metadata": {},
     "output_type": "display_data"
    }
   ],
   "source": [
    "cm = confusion_matrix(y_test, y_pred_rf)\n",
    "sns.heatmap(cm, annot=True, fmt='d', cmap='Blues')\n",
    "plt.xlabel('Predicted')\n",
    "plt.ylabel('Actual')\n",
    "plt.title(f'Confusion Matrix - {rf_model}')\n",
    "plt.show()\n"
   ]
  },
  {
   "cell_type": "markdown",
   "id": "cc751a1e-203c-4e89-8f80-cefaabf779bf",
   "metadata": {
    "id": "cc751a1e-203c-4e89-8f80-cefaabf779bf"
   },
   "source": [
    "# 5. Model Interpretation"
   ]
  },
  {
   "cell_type": "code",
   "execution_count": 30,
   "id": "7556a085-40d4-4d13-93d8-cd823bf5a9f6",
   "metadata": {
    "id": "7556a085-40d4-4d13-93d8-cd823bf5a9f6"
   },
   "outputs": [],
   "source": [
    "import shap"
   ]
  },
  {
   "cell_type": "code",
   "execution_count": 31,
   "id": "1a0c6ce8-d1cf-48cf-95b7-66d6a76d0e39",
   "metadata": {
    "colab": {
     "base_uri": "https://localhost:8080/"
    },
    "id": "1a0c6ce8-d1cf-48cf-95b7-66d6a76d0e39",
    "outputId": "65500093-7be7-428b-feb2-a5c8118285bd"
   },
   "outputs": [
    {
     "name": "stdout",
     "output_type": "stream",
     "text": [
      "Original DataFrame shape: (7043, 7073)\n",
      "X_train shape: (5634, 7072)\n",
      "X_test shape: (1409, 7072)\n",
      "df.columns length: 7073\n"
     ]
    }
   ],
   "source": [
    "print(\"Original DataFrame shape:\", df.shape)\n",
    "print(\"X_train shape:\", X_train.shape)\n",
    "print(\"X_test shape:\", X_test.shape)\n",
    "print(\"df.columns length:\", len(df.columns))\n"
   ]
  },
  {
   "cell_type": "code",
   "execution_count": 32,
   "id": "91e39d61-5285-4e9f-91c6-546c5c8e5ecc",
   "metadata": {
    "colab": {
     "base_uri": "https://localhost:8080/"
    },
    "id": "91e39d61-5285-4e9f-91c6-546c5c8e5ecc",
    "outputId": "830be51a-205d-4e12-bcb4-c6969bb478e7",
    "scrolled": true
   },
   "outputs": [
    {
     "name": "stdout",
     "output_type": "stream",
     "text": [
      "<class 'numpy.ndarray'>\n",
      "0       float64\n",
      "1       float64\n",
      "2       float64\n",
      "3       float64\n",
      "4       float64\n",
      "         ...   \n",
      "7067    float64\n",
      "7068    float64\n",
      "7069    float64\n",
      "7070    float64\n",
      "7071    float64\n",
      "Length: 7072, dtype: object\n"
     ]
    }
   ],
   "source": [
    "print(type(X_test))\n",
    "X_test = pd.DataFrame(X_test)\n",
    "print(X_test.dtypes)"
   ]
  },
  {
   "cell_type": "code",
   "execution_count": 33,
   "id": "22c76e6a-e073-41ff-97f8-edd05ae03f3b",
   "metadata": {
    "id": "22c76e6a-e073-41ff-97f8-edd05ae03f3b"
   },
   "outputs": [],
   "source": [
    "X_test = X_test.fillna(0)"
   ]
  },
  {
   "cell_type": "code",
   "execution_count": 34,
   "id": "3e2ce9ee-9fda-43ad-b4a5-d48d64dad3fa",
   "metadata": {
    "colab": {
     "base_uri": "https://localhost:8080/",
     "height": 444
    },
    "id": "3e2ce9ee-9fda-43ad-b4a5-d48d64dad3fa",
    "outputId": "408be250-4955-4c8c-f399-151a023693f7"
   },
   "outputs": [
    {
     "data": {
      "text/html": [
       "<div>\n",
       "<style scoped>\n",
       "    .dataframe tbody tr th:only-of-type {\n",
       "        vertical-align: middle;\n",
       "    }\n",
       "\n",
       "    .dataframe tbody tr th {\n",
       "        vertical-align: top;\n",
       "    }\n",
       "\n",
       "    .dataframe thead th {\n",
       "        text-align: right;\n",
       "    }\n",
       "</style>\n",
       "<table border=\"1\" class=\"dataframe\">\n",
       "  <thead>\n",
       "    <tr style=\"text-align: right;\">\n",
       "      <th></th>\n",
       "      <th>0</th>\n",
       "      <th>1</th>\n",
       "      <th>2</th>\n",
       "      <th>3</th>\n",
       "      <th>4</th>\n",
       "      <th>5</th>\n",
       "      <th>6</th>\n",
       "      <th>7</th>\n",
       "      <th>8</th>\n",
       "      <th>9</th>\n",
       "      <th>...</th>\n",
       "      <th>7062</th>\n",
       "      <th>7063</th>\n",
       "      <th>7064</th>\n",
       "      <th>7065</th>\n",
       "      <th>7066</th>\n",
       "      <th>7067</th>\n",
       "      <th>7068</th>\n",
       "      <th>7069</th>\n",
       "      <th>7070</th>\n",
       "      <th>7071</th>\n",
       "    </tr>\n",
       "  </thead>\n",
       "  <tbody>\n",
       "    <tr>\n",
       "      <th>0</th>\n",
       "      <td>-0.439475</td>\n",
       "      <td>-0.742741</td>\n",
       "      <td>-0.460354</td>\n",
       "      <td>-0.689394</td>\n",
       "      <td>-0.013324</td>\n",
       "      <td>0.0</td>\n",
       "      <td>-0.013324</td>\n",
       "      <td>-0.013324</td>\n",
       "      <td>0.0</td>\n",
       "      <td>-0.013324</td>\n",
       "      <td>...</td>\n",
       "      <td>-0.529854</td>\n",
       "      <td>1.274412</td>\n",
       "      <td>-0.529854</td>\n",
       "      <td>1.259673</td>\n",
       "      <td>-0.515541</td>\n",
       "      <td>-0.556985</td>\n",
       "      <td>0.840688</td>\n",
       "      <td>-0.521604</td>\n",
       "      <td>1.402992</td>\n",
       "      <td>-0.547680</td>\n",
       "    </tr>\n",
       "    <tr>\n",
       "      <th>1</th>\n",
       "      <td>-0.439475</td>\n",
       "      <td>-0.129762</td>\n",
       "      <td>-1.496157</td>\n",
       "      <td>-0.773946</td>\n",
       "      <td>-0.013324</td>\n",
       "      <td>0.0</td>\n",
       "      <td>-0.013324</td>\n",
       "      <td>-0.013324</td>\n",
       "      <td>0.0</td>\n",
       "      <td>-0.013324</td>\n",
       "      <td>...</td>\n",
       "      <td>1.887311</td>\n",
       "      <td>-0.784675</td>\n",
       "      <td>1.887311</td>\n",
       "      <td>-0.793857</td>\n",
       "      <td>-0.515541</td>\n",
       "      <td>1.795380</td>\n",
       "      <td>0.840688</td>\n",
       "      <td>-0.521604</td>\n",
       "      <td>-0.712762</td>\n",
       "      <td>1.825882</td>\n",
       "    </tr>\n",
       "    <tr>\n",
       "      <th>2</th>\n",
       "      <td>-0.439475</td>\n",
       "      <td>-1.273989</td>\n",
       "      <td>0.839380</td>\n",
       "      <td>-0.965190</td>\n",
       "      <td>-0.013324</td>\n",
       "      <td>0.0</td>\n",
       "      <td>-0.013324</td>\n",
       "      <td>-0.013324</td>\n",
       "      <td>0.0</td>\n",
       "      <td>-0.013324</td>\n",
       "      <td>...</td>\n",
       "      <td>-0.529854</td>\n",
       "      <td>1.274412</td>\n",
       "      <td>-0.529854</td>\n",
       "      <td>1.259673</td>\n",
       "      <td>-0.515541</td>\n",
       "      <td>-0.556985</td>\n",
       "      <td>0.840688</td>\n",
       "      <td>-0.521604</td>\n",
       "      <td>1.402992</td>\n",
       "      <td>-0.547680</td>\n",
       "    </tr>\n",
       "    <tr>\n",
       "      <th>3</th>\n",
       "      <td>-0.439475</td>\n",
       "      <td>1.504848</td>\n",
       "      <td>-1.333483</td>\n",
       "      <td>-0.244184</td>\n",
       "      <td>-0.013324</td>\n",
       "      <td>0.0</td>\n",
       "      <td>-0.013324</td>\n",
       "      <td>-0.013324</td>\n",
       "      <td>0.0</td>\n",
       "      <td>-0.013324</td>\n",
       "      <td>...</td>\n",
       "      <td>1.887311</td>\n",
       "      <td>-0.784675</td>\n",
       "      <td>1.887311</td>\n",
       "      <td>-0.793857</td>\n",
       "      <td>-0.515541</td>\n",
       "      <td>1.795380</td>\n",
       "      <td>-1.189503</td>\n",
       "      <td>-0.521604</td>\n",
       "      <td>-0.712762</td>\n",
       "      <td>-0.547680</td>\n",
       "    </tr>\n",
       "    <tr>\n",
       "      <th>4</th>\n",
       "      <td>-0.439475</td>\n",
       "      <td>0.238025</td>\n",
       "      <td>0.651807</td>\n",
       "      <td>0.440512</td>\n",
       "      <td>-0.013324</td>\n",
       "      <td>0.0</td>\n",
       "      <td>-0.013324</td>\n",
       "      <td>-0.013324</td>\n",
       "      <td>0.0</td>\n",
       "      <td>-0.013324</td>\n",
       "      <td>...</td>\n",
       "      <td>-0.529854</td>\n",
       "      <td>-0.784675</td>\n",
       "      <td>-0.529854</td>\n",
       "      <td>-0.793857</td>\n",
       "      <td>-0.515541</td>\n",
       "      <td>-0.556985</td>\n",
       "      <td>0.840688</td>\n",
       "      <td>1.917164</td>\n",
       "      <td>-0.712762</td>\n",
       "      <td>-0.547680</td>\n",
       "    </tr>\n",
       "    <tr>\n",
       "      <th>...</th>\n",
       "      <td>...</td>\n",
       "      <td>...</td>\n",
       "      <td>...</td>\n",
       "      <td>...</td>\n",
       "      <td>...</td>\n",
       "      <td>...</td>\n",
       "      <td>...</td>\n",
       "      <td>...</td>\n",
       "      <td>...</td>\n",
       "      <td>...</td>\n",
       "      <td>...</td>\n",
       "      <td>...</td>\n",
       "      <td>...</td>\n",
       "      <td>...</td>\n",
       "      <td>...</td>\n",
       "      <td>...</td>\n",
       "      <td>...</td>\n",
       "      <td>...</td>\n",
       "      <td>...</td>\n",
       "      <td>...</td>\n",
       "      <td>...</td>\n",
       "    </tr>\n",
       "    <tr>\n",
       "      <th>1404</th>\n",
       "      <td>-0.439475</td>\n",
       "      <td>-0.701876</td>\n",
       "      <td>0.394516</td>\n",
       "      <td>-0.493302</td>\n",
       "      <td>-0.013324</td>\n",
       "      <td>0.0</td>\n",
       "      <td>-0.013324</td>\n",
       "      <td>-0.013324</td>\n",
       "      <td>0.0</td>\n",
       "      <td>-0.013324</td>\n",
       "      <td>...</td>\n",
       "      <td>-0.529854</td>\n",
       "      <td>1.274412</td>\n",
       "      <td>-0.529854</td>\n",
       "      <td>1.259673</td>\n",
       "      <td>-0.515541</td>\n",
       "      <td>-0.556985</td>\n",
       "      <td>-1.189503</td>\n",
       "      <td>-0.521604</td>\n",
       "      <td>-0.712762</td>\n",
       "      <td>-0.547680</td>\n",
       "    </tr>\n",
       "    <tr>\n",
       "      <th>1405</th>\n",
       "      <td>-0.439475</td>\n",
       "      <td>-1.233124</td>\n",
       "      <td>-0.558290</td>\n",
       "      <td>-0.964061</td>\n",
       "      <td>-0.013324</td>\n",
       "      <td>0.0</td>\n",
       "      <td>-0.013324</td>\n",
       "      <td>-0.013324</td>\n",
       "      <td>0.0</td>\n",
       "      <td>-0.013324</td>\n",
       "      <td>...</td>\n",
       "      <td>-0.529854</td>\n",
       "      <td>-0.784675</td>\n",
       "      <td>-0.529854</td>\n",
       "      <td>-0.793857</td>\n",
       "      <td>-0.515541</td>\n",
       "      <td>-0.556985</td>\n",
       "      <td>0.840688</td>\n",
       "      <td>-0.521604</td>\n",
       "      <td>1.402992</td>\n",
       "      <td>-0.547680</td>\n",
       "    </tr>\n",
       "    <tr>\n",
       "      <th>1406</th>\n",
       "      <td>-0.439475</td>\n",
       "      <td>1.014465</td>\n",
       "      <td>-0.780722</td>\n",
       "      <td>-0.005052</td>\n",
       "      <td>-0.013324</td>\n",
       "      <td>0.0</td>\n",
       "      <td>-0.013324</td>\n",
       "      <td>-0.013324</td>\n",
       "      <td>0.0</td>\n",
       "      <td>-0.013324</td>\n",
       "      <td>...</td>\n",
       "      <td>-0.529854</td>\n",
       "      <td>-0.784675</td>\n",
       "      <td>-0.529854</td>\n",
       "      <td>-0.793857</td>\n",
       "      <td>1.939708</td>\n",
       "      <td>-0.556985</td>\n",
       "      <td>0.840688</td>\n",
       "      <td>1.917164</td>\n",
       "      <td>-0.712762</td>\n",
       "      <td>-0.547680</td>\n",
       "    </tr>\n",
       "    <tr>\n",
       "      <th>1407</th>\n",
       "      <td>-0.439475</td>\n",
       "      <td>0.810139</td>\n",
       "      <td>0.895818</td>\n",
       "      <td>1.044177</td>\n",
       "      <td>-0.013324</td>\n",
       "      <td>0.0</td>\n",
       "      <td>-0.013324</td>\n",
       "      <td>-0.013324</td>\n",
       "      <td>0.0</td>\n",
       "      <td>-0.013324</td>\n",
       "      <td>...</td>\n",
       "      <td>-0.529854</td>\n",
       "      <td>-0.784675</td>\n",
       "      <td>-0.529854</td>\n",
       "      <td>-0.793857</td>\n",
       "      <td>-0.515541</td>\n",
       "      <td>1.795380</td>\n",
       "      <td>0.840688</td>\n",
       "      <td>1.917164</td>\n",
       "      <td>-0.712762</td>\n",
       "      <td>-0.547680</td>\n",
       "    </tr>\n",
       "    <tr>\n",
       "      <th>1408</th>\n",
       "      <td>-0.439475</td>\n",
       "      <td>-1.151394</td>\n",
       "      <td>-1.160849</td>\n",
       "      <td>-0.952526</td>\n",
       "      <td>-0.013324</td>\n",
       "      <td>0.0</td>\n",
       "      <td>-0.013324</td>\n",
       "      <td>-0.013324</td>\n",
       "      <td>0.0</td>\n",
       "      <td>-0.013324</td>\n",
       "      <td>...</td>\n",
       "      <td>-0.529854</td>\n",
       "      <td>-0.784675</td>\n",
       "      <td>-0.529854</td>\n",
       "      <td>-0.793857</td>\n",
       "      <td>-0.515541</td>\n",
       "      <td>-0.556985</td>\n",
       "      <td>0.840688</td>\n",
       "      <td>-0.521604</td>\n",
       "      <td>1.402992</td>\n",
       "      <td>-0.547680</td>\n",
       "    </tr>\n",
       "  </tbody>\n",
       "</table>\n",
       "<p>1409 rows × 7072 columns</p>\n",
       "</div>"
      ],
      "text/plain": [
       "          0         1         2         3         4     5         6     \\\n",
       "0    -0.439475 -0.742741 -0.460354 -0.689394 -0.013324   0.0 -0.013324   \n",
       "1    -0.439475 -0.129762 -1.496157 -0.773946 -0.013324   0.0 -0.013324   \n",
       "2    -0.439475 -1.273989  0.839380 -0.965190 -0.013324   0.0 -0.013324   \n",
       "3    -0.439475  1.504848 -1.333483 -0.244184 -0.013324   0.0 -0.013324   \n",
       "4    -0.439475  0.238025  0.651807  0.440512 -0.013324   0.0 -0.013324   \n",
       "...        ...       ...       ...       ...       ...   ...       ...   \n",
       "1404 -0.439475 -0.701876  0.394516 -0.493302 -0.013324   0.0 -0.013324   \n",
       "1405 -0.439475 -1.233124 -0.558290 -0.964061 -0.013324   0.0 -0.013324   \n",
       "1406 -0.439475  1.014465 -0.780722 -0.005052 -0.013324   0.0 -0.013324   \n",
       "1407 -0.439475  0.810139  0.895818  1.044177 -0.013324   0.0 -0.013324   \n",
       "1408 -0.439475 -1.151394 -1.160849 -0.952526 -0.013324   0.0 -0.013324   \n",
       "\n",
       "          7     8         9     ...      7062      7063      7064      7065  \\\n",
       "0    -0.013324   0.0 -0.013324  ... -0.529854  1.274412 -0.529854  1.259673   \n",
       "1    -0.013324   0.0 -0.013324  ...  1.887311 -0.784675  1.887311 -0.793857   \n",
       "2    -0.013324   0.0 -0.013324  ... -0.529854  1.274412 -0.529854  1.259673   \n",
       "3    -0.013324   0.0 -0.013324  ...  1.887311 -0.784675  1.887311 -0.793857   \n",
       "4    -0.013324   0.0 -0.013324  ... -0.529854 -0.784675 -0.529854 -0.793857   \n",
       "...        ...   ...       ...  ...       ...       ...       ...       ...   \n",
       "1404 -0.013324   0.0 -0.013324  ... -0.529854  1.274412 -0.529854  1.259673   \n",
       "1405 -0.013324   0.0 -0.013324  ... -0.529854 -0.784675 -0.529854 -0.793857   \n",
       "1406 -0.013324   0.0 -0.013324  ... -0.529854 -0.784675 -0.529854 -0.793857   \n",
       "1407 -0.013324   0.0 -0.013324  ... -0.529854 -0.784675 -0.529854 -0.793857   \n",
       "1408 -0.013324   0.0 -0.013324  ... -0.529854 -0.784675 -0.529854 -0.793857   \n",
       "\n",
       "          7066      7067      7068      7069      7070      7071  \n",
       "0    -0.515541 -0.556985  0.840688 -0.521604  1.402992 -0.547680  \n",
       "1    -0.515541  1.795380  0.840688 -0.521604 -0.712762  1.825882  \n",
       "2    -0.515541 -0.556985  0.840688 -0.521604  1.402992 -0.547680  \n",
       "3    -0.515541  1.795380 -1.189503 -0.521604 -0.712762 -0.547680  \n",
       "4    -0.515541 -0.556985  0.840688  1.917164 -0.712762 -0.547680  \n",
       "...        ...       ...       ...       ...       ...       ...  \n",
       "1404 -0.515541 -0.556985 -1.189503 -0.521604 -0.712762 -0.547680  \n",
       "1405 -0.515541 -0.556985  0.840688 -0.521604  1.402992 -0.547680  \n",
       "1406  1.939708 -0.556985  0.840688  1.917164 -0.712762 -0.547680  \n",
       "1407 -0.515541  1.795380  0.840688  1.917164 -0.712762 -0.547680  \n",
       "1408 -0.515541 -0.556985  0.840688 -0.521604  1.402992 -0.547680  \n",
       "\n",
       "[1409 rows x 7072 columns]"
      ]
     },
     "execution_count": 34,
     "metadata": {},
     "output_type": "execute_result"
    }
   ],
   "source": [
    "X_test"
   ]
  },
  {
   "cell_type": "code",
   "execution_count": 35,
   "id": "8edcd68c-bcd0-4bea-94ab-bb72c5a80645",
   "metadata": {
    "colab": {
     "base_uri": "https://localhost:8080/"
    },
    "id": "8edcd68c-bcd0-4bea-94ab-bb72c5a80645",
    "outputId": "983983be-9c1d-4837-b59a-8226beffac82"
   },
   "outputs": [
    {
     "data": {
      "text/plain": [
       "<shap.explainers._tree.TreeExplainer at 0x1d98043f590>"
      ]
     },
     "execution_count": 35,
     "metadata": {},
     "output_type": "execute_result"
    }
   ],
   "source": [
    "explainer = shap.TreeExplainer(rf_model)\n",
    "explainer"
   ]
  },
  {
   "cell_type": "code",
   "execution_count": 36,
   "id": "m1TTGdHQUaK8",
   "metadata": {
    "colab": {
     "base_uri": "https://localhost:8080/"
    },
    "id": "m1TTGdHQUaK8",
    "outputId": "2682b967-c70b-4728-f48a-aeb04f48166b"
   },
   "outputs": [
    {
     "name": "stderr",
     "output_type": "stream",
     "text": [
      "100%|===================| 2805/2818 [02:22<00:00]        "
     ]
    }
   ],
   "source": [
    "explainer = shap.Explainer(rf_model, X_test)\n",
    "shap_values = explainer(X_test, check_additivity=False)\n"
   ]
  },
  {
   "cell_type": "markdown",
   "id": "51d7f9c5-259d-4663-a88c-845091c56507",
   "metadata": {
    "id": "51d7f9c5-259d-4663-a88c-845091c56507"
   },
   "source": [
    "## Visualize SHAP summary plot"
   ]
  },
  {
   "cell_type": "markdown",
   "id": "1f61dca2-e171-46b8-abed-2b9593800ddc",
   "metadata": {
    "colab": {
     "base_uri": "https://localhost:8080/"
    },
    "id": "E2RXjKnqeju-",
    "outputId": "b696b9d8-12f9-447c-b509-79807bb7ae17"
   },
   "source": [
    "!pip install --upgrade shap\n"
   ]
  },
  {
   "cell_type": "code",
   "execution_count": 37,
   "id": "mWyEk2LobD8S",
   "metadata": {
    "colab": {
     "base_uri": "https://localhost:8080/",
     "height": 697
    },
    "id": "mWyEk2LobD8S",
    "outputId": "d1086e31-cfd7-477b-b49f-b299c9caee5a"
   },
   "outputs": [
    {
     "data": {
      "image/png": "[encoded data removed]",
      "text/plain": [
       "<Figure size 1150x660 with 2 Axes>"
      ]
     },
     "metadata": {},
     "output_type": "display_data"
    }
   ],
   "source": [
    "X_test.columns = X_test.columns.astype(str)\n",
    "X_test = X_test.copy()\n",
    "X_test.columns = list(X_test.columns)\n",
    "shap.summary_plot(shap_values, X_test.values, feature_names=X_test.columns)\n",
    "\n",
    "\n",
    "\n"
   ]
  },
  {
   "cell_type": "code",
   "execution_count": 38,
   "id": "54b353fa-9884-45e7-9556-e650e39317d5",
   "metadata": {
    "colab": {
     "base_uri": "https://localhost:8080/"
    },
    "id": "54b353fa-9884-45e7-9556-e650e39317d5",
    "outputId": "9ffade99-09e5-4bf4-9824-a80fa11ecbd1"
   },
   "outputs": [
    {
     "name": "stdout",
     "output_type": "stream",
     "text": [
      "(5634, 7072) (1409, 7072)\n"
     ]
    }
   ],
   "source": [
    "print(X_train.shape, X_test.shape)\n"
   ]
  },
  {
   "cell_type": "code",
   "execution_count": null,
   "id": "cbdf594f-60e4-43b5-82d2-b28ef8b742f1",
   "metadata": {
    "id": "cbdf594f-60e4-43b5-82d2-b28ef8b742f1"
   },
   "outputs": [],
   "source": []
  },
  {
   "cell_type": "code",
   "execution_count": null,
   "id": "7b4c6808-965e-4d8c-bc27-c05eaac17eeb",
   "metadata": {},
   "outputs": [],
   "source": []
  }
 ],
 "metadata": {
  "colab": {
   "provenance": []
  },
  "kernelspec": {
   "display_name": "Python 3 (ipykernel)",
   "language": "python",
   "name": "python3"
  },
  "language_info": {
   "codemirror_mode": {
    "name": "ipython",
    "version": 3
   },
   "file_extension": ".py",
   "mimetype": "text/x-python",
   "name": "python",
   "nbconvert_exporter": "python",
   "pygments_lexer": "ipython3",
   "version": "3.11.7"
  },
  "widgets": {
   "application/vnd.jupyter.widget-state+json": {
    "state": {},
    "version_major": 2,
    "version_minor": 0
   }
  }
 },
 "nbformat": 4,
 "nbformat_minor": 5
}
